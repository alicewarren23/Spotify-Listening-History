{
 "cells": [
  {
   "cell_type": "code",
   "execution_count": 4,
   "id": "6361e944-186b-4d99-959a-a479d4c56147",
   "metadata": {},
   "outputs": [
    {
     "name": "stdout",
     "output_type": "stream",
     "text": [
      "Requirement already satisfied: gspread in /opt/anaconda3/lib/python3.12/site-packages (6.2.1)\n",
      "Requirement already satisfied: gspread_dataframe in /opt/anaconda3/lib/python3.12/site-packages (4.0.0)\n",
      "Requirement already satisfied: oauth2client in /opt/anaconda3/lib/python3.12/site-packages (4.1.3)\n",
      "Requirement already satisfied: google-auth>=1.12.0 in /opt/anaconda3/lib/python3.12/site-packages (from gspread) (2.40.2)\n",
      "Requirement already satisfied: google-auth-oauthlib>=0.4.1 in /opt/anaconda3/lib/python3.12/site-packages (from gspread) (1.2.2)\n",
      "Requirement already satisfied: pandas>=0.24.0 in /opt/anaconda3/lib/python3.12/site-packages (from gspread_dataframe) (2.2.2)\n",
      "Requirement already satisfied: six>=1.12.0 in /opt/anaconda3/lib/python3.12/site-packages (from gspread_dataframe) (1.16.0)\n",
      "Requirement already satisfied: httplib2>=0.9.1 in /opt/anaconda3/lib/python3.12/site-packages (from oauth2client) (0.22.0)\n",
      "Requirement already satisfied: pyasn1>=0.1.7 in /opt/anaconda3/lib/python3.12/site-packages (from oauth2client) (0.4.8)\n",
      "Requirement already satisfied: pyasn1-modules>=0.0.5 in /opt/anaconda3/lib/python3.12/site-packages (from oauth2client) (0.2.8)\n",
      "Requirement already satisfied: rsa>=3.1.4 in /opt/anaconda3/lib/python3.12/site-packages (from oauth2client) (4.9.1)\n",
      "Requirement already satisfied: cachetools<6.0,>=2.0.0 in /opt/anaconda3/lib/python3.12/site-packages (from google-auth>=1.12.0->gspread) (5.3.3)\n",
      "Requirement already satisfied: requests-oauthlib>=0.7.0 in /opt/anaconda3/lib/python3.12/site-packages (from google-auth-oauthlib>=0.4.1->gspread) (2.0.0)\n",
      "Requirement already satisfied: pyparsing!=3.0.0,!=3.0.1,!=3.0.2,!=3.0.3,<4,>=2.4.2 in /opt/anaconda3/lib/python3.12/site-packages (from httplib2>=0.9.1->oauth2client) (3.1.2)\n",
      "Requirement already satisfied: numpy>=1.26.0 in /opt/anaconda3/lib/python3.12/site-packages (from pandas>=0.24.0->gspread_dataframe) (1.26.4)\n",
      "Requirement already satisfied: python-dateutil>=2.8.2 in /opt/anaconda3/lib/python3.12/site-packages (from pandas>=0.24.0->gspread_dataframe) (2.9.0.post0)\n",
      "Requirement already satisfied: pytz>=2020.1 in /opt/anaconda3/lib/python3.12/site-packages (from pandas>=0.24.0->gspread_dataframe) (2024.1)\n",
      "Requirement already satisfied: tzdata>=2022.7 in /opt/anaconda3/lib/python3.12/site-packages (from pandas>=0.24.0->gspread_dataframe) (2023.3)\n",
      "Requirement already satisfied: oauthlib>=3.0.0 in /opt/anaconda3/lib/python3.12/site-packages (from requests-oauthlib>=0.7.0->google-auth-oauthlib>=0.4.1->gspread) (3.3.1)\n",
      "Requirement already satisfied: requests>=2.0.0 in /opt/anaconda3/lib/python3.12/site-packages (from requests-oauthlib>=0.7.0->google-auth-oauthlib>=0.4.1->gspread) (2.32.3)\n",
      "Requirement already satisfied: charset-normalizer<4,>=2 in /opt/anaconda3/lib/python3.12/site-packages (from requests>=2.0.0->requests-oauthlib>=0.7.0->google-auth-oauthlib>=0.4.1->gspread) (3.3.2)\n",
      "Requirement already satisfied: idna<4,>=2.5 in /opt/anaconda3/lib/python3.12/site-packages (from requests>=2.0.0->requests-oauthlib>=0.7.0->google-auth-oauthlib>=0.4.1->gspread) (3.7)\n",
      "Requirement already satisfied: urllib3<3,>=1.21.1 in /opt/anaconda3/lib/python3.12/site-packages (from requests>=2.0.0->requests-oauthlib>=0.7.0->google-auth-oauthlib>=0.4.1->gspread) (2.2.3)\n",
      "Requirement already satisfied: certifi>=2017.4.17 in /opt/anaconda3/lib/python3.12/site-packages (from requests>=2.0.0->requests-oauthlib>=0.7.0->google-auth-oauthlib>=0.4.1->gspread) (2024.8.30)\n",
      "Note: you may need to restart the kernel to use updated packages.\n"
     ]
    }
   ],
   "source": [
    "pip install gspread gspread_dataframe oauth2client"
   ]
  },
  {
   "cell_type": "code",
   "execution_count": 5,
   "id": "3f9aecfc-d494-45f5-9d66-a99afe7f8dea",
   "metadata": {},
   "outputs": [],
   "source": [
    "import pandas as pd\n",
    "import gspread\n",
    "from oauth2client.service_account import ServiceAccountCredentials\n",
    "from gspread_dataframe import get_as_dataframe\n",
    "import os"
   ]
  },
  {
   "cell_type": "code",
   "execution_count": 6,
   "id": "96b60a78-866b-48ff-91ae-69408c2989b9",
   "metadata": {},
   "outputs": [],
   "source": [
    "# Step 1: Set up credentials\n",
    "scope = [\"https://spreadsheets.google.com/feeds\", \"https://www.googleapis.com/auth/drive\"]\n",
    "creds = ServiceAccountCredentials.from_json_keyfile_name(\"lucid-parsec-464412-t8-75d0c2e2a5fa.json\", scope)\n",
    "client = gspread.authorize(creds)"
   ]
  },
  {
   "cell_type": "code",
   "execution_count": 7,
   "id": "2a4b1b89-b806-4e4c-8405-c8a9cb861404",
   "metadata": {},
   "outputs": [],
   "source": [
    "sheet = client.open('Recent Spotify Plays').sheet1"
   ]
  },
  {
   "cell_type": "code",
   "execution_count": 8,
   "id": "f5c70c6c-3a81-4d3d-8b99-632dffb62258",
   "metadata": {},
   "outputs": [],
   "source": [
    "df_new = get_as_dataframe(sheet, evaluate_formulas=True).dropna(how=\"all\")"
   ]
  },
  {
   "cell_type": "code",
   "execution_count": 9,
   "id": "37618213-72a2-417a-8c98-7bc3d390be40",
   "metadata": {},
   "outputs": [],
   "source": [
    "csv_path = \"2014_06July2025cleaned.csv\""
   ]
  },
  {
   "cell_type": "code",
   "execution_count": 15,
   "id": "59c17405-ef12-4a48-8f1d-8d9ac33fccad",
   "metadata": {},
   "outputs": [],
   "source": [
    "df_new = df_new.drop(df_new.columns[4], axis=1)"
   ]
  },
  {
   "cell_type": "code",
   "execution_count": 16,
   "id": "65a33f01-c411-4fc5-9dd0-947e2f41a5cb",
   "metadata": {},
   "outputs": [],
   "source": [
    "if os.path.exists(csv_path):\n",
    "    df_existing = pd.read_csv(csv_path)\n",
    "    # Optional: ensure column names match\n",
    "    df_new.columns = df_existing.columns\n",
    "    \n",
    "    # Combine the old and new data\n",
    "    df_combined = pd.concat([df_existing, df_new])\n",
    "    \n",
    "    # Drop duplicates based only on the 'Date/Time' column\n",
    "    df_combined = df_combined.drop_duplicates(subset=['Date/Time'])\n",
    "else:\n",
    "    df_combined = df_new"
   ]
  },
  {
   "cell_type": "code",
   "execution_count": 18,
   "id": "b6bc019b-14e9-4879-bb8e-d8bb977333cf",
   "metadata": {},
   "outputs": [],
   "source": [
    "df_combined.to_csv('2014_06July2025cleaned.csv', index=False)"
   ]
  },
  {
   "cell_type": "code",
   "execution_count": 2,
   "id": "35129e63-8fa3-4abc-9cb3-5471bcf7f729",
   "metadata": {},
   "outputs": [],
   "source": [
    "import pandas as pd\n",
    "import gspread\n",
    "from oauth2client.service_account import ServiceAccountCredentials\n",
    "from gspread_dataframe import get_as_dataframe\n",
    "import os\n",
    "\n",
    "scope = [\"https://spreadsheets.google.com/feeds\", \"https://www.googleapis.com/auth/drive\"]\n",
    "creds = ServiceAccountCredentials.from_json_keyfile_name(\"lucid-parsec-464412-t8-75d0c2e2a5fa.json\", scope)\n",
    "client = gspread.authorize(creds)\n",
    "\n",
    "sheet = client.open('Recent Spotify Plays').sheet1\n",
    "df_new = get_as_dataframe(sheet, evaluate_formulas=True).dropna(how=\"all\")\n",
    "df_new = df_new.drop(df_new.columns[4], axis=1)\n",
    "\n",
    "csv_path = \"2014_06July2025cleaned.csv\"\n",
    "\n",
    "if os.path.exists(csv_path):\n",
    "    df_existing = pd.read_csv(csv_path)\n",
    "    # Optional: ensure column names match\n",
    "    df_new.columns = df_existing.columns\n",
    "    \n",
    "    # Combine the old and new data\n",
    "    df_combined = pd.concat([df_existing, df_new])\n",
    "    \n",
    "    # Drop duplicates based only on the 'Date/Time' column\n",
    "    df_combined = df_combined.drop_duplicates(subset=['Date/Time'])\n",
    "else:\n",
    "    df_combined = df_new\n",
    "\n",
    "df_combined.to_csv('2014_06July2025cleaned.csv', index=False)"
   ]
  },
  {
   "cell_type": "code",
   "execution_count": null,
   "id": "44577719-9cbe-4e29-af52-b442ae0b1d44",
   "metadata": {},
   "outputs": [],
   "source": []
  }
 ],
 "metadata": {
  "kernelspec": {
   "display_name": "Python 3 (ipykernel)",
   "language": "python",
   "name": "python3"
  },
  "language_info": {
   "codemirror_mode": {
    "name": "ipython",
    "version": 3
   },
   "file_extension": ".py",
   "mimetype": "text/x-python",
   "name": "python",
   "nbconvert_exporter": "python",
   "pygments_lexer": "ipython3",
   "version": "3.12.7"
  }
 },
 "nbformat": 4,
 "nbformat_minor": 5
}
