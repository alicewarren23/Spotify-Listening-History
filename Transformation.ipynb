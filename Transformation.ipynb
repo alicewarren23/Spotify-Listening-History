{
 "cells": [
  {
   "cell_type": "code",
   "execution_count": 9,
   "id": "d8d0ab57",
   "metadata": {},
   "outputs": [
    {
     "name": "stdout",
     "output_type": "stream",
     "text": [
      "Spotify History Sheet downloaded and saved as 'Spotify_History.csv'.\n"
     ]
    }
   ],
   "source": [
    "import gspread\n",
    "from oauth2client.service_account import ServiceAccountCredentials\n",
    "\n",
    "scope = [\"https://spreadsheets.google.com/feeds\", \"https://www.googleapis.com/auth/drive\"]\n",
    "creds = ServiceAccountCredentials.from_json_keyfile_name(\"lucid-parsec-464412-t8-75d0c2e2a5fa.json\", scope)\n",
    "client = gspread.authorize(creds)\n",
    "\n",
    "sheet = client.open(\"Spotify History\").sheet1\n",
    "\n",
    "import csv\n",
    "with open(\"Spotify_History.csv\", \"w\", newline=\"\") as file:\n",
    "    writer = csv.writer(file)\n",
    "    writer.writerow(sheet.row_values(1))  # Write header\n",
    "    writer.writerows(sheet.get_all_values()[1:])  # Write data\n",
    "\n",
    "print(\"Spotify History Sheet downloaded and saved as 'Spotify_History.csv'.\")"
   ]
  },
  {
   "cell_type": "code",
   "execution_count": 10,
   "id": "d1103d91",
   "metadata": {},
   "outputs": [
    {
     "name": "stdout",
     "output_type": "stream",
     "text": [
      "Spotify Historydownloaded'.\n"
     ]
    }
   ],
   "source": [
    "\n",
    "sheet = client.open(\"Recent Spotify Plays\").sheet1\n",
    "\n",
    "import csv\n",
    "with open(\"Recent_Spotify_History.csv\", \"w\", newline=\"\") as file:\n",
    "    writer = csv.writer(file)\n",
    "    writer.writerow(sheet.row_values(1)) \n",
    "    writer.writerows(sheet.get_all_values()[1:]) \n",
    "\n",
    "print(\"Spotify Historydownloaded'.\")"
   ]
  },
  {
   "cell_type": "code",
   "execution_count": 11,
   "id": "355d7178",
   "metadata": {},
   "outputs": [
    {
     "name": "stdout",
     "output_type": "stream",
     "text": [
      "URI column removed from 'Recent_Spotify_History.csv'.\n"
     ]
    }
   ],
   "source": [
    "import pandas as pd\n",
    "\n",
    "df = pd.read_csv(\"Recent_Spotify_History.csv\")\n",
    "\n",
    "if \"URI\" in df.columns:\n",
    "    df = df.drop(columns=[\"URI\"])\n",
    "\n",
    "df.to_csv(\"Recent_Spotify_History.csv\", index=False)\n",
    "\n",
    "print(\"URI column removed from 'Recent_Spotify_History.csv'.\")"
   ]
  },
  {
   "cell_type": "code",
   "execution_count": 13,
   "id": "60000edd",
   "metadata": {},
   "outputs": [
    {
     "name": "stdout",
     "output_type": "stream",
     "text": [
      "Number of duplicate rows: 171\n",
      "Recent history appended, duplicates removed, and saved to 'Spotify_History2014-Aug2025.csv'.\n"
     ]
    }
   ],
   "source": [
    "import pandas as pd\n",
    "\n",
    "history_df = pd.read_csv(\"Archived_CSV/Spotify_History2014-Aug2025.csv\")\n",
    "recent_df = pd.read_csv(\"Archived_CSV/Recent_Spotify_History.csv\")\n",
    "\n",
    "combined_df = pd.concat([history_df, recent_df], ignore_index=True)\n",
    "\n",
    "num_duplicates = combined_df.duplicated().sum()\n",
    "print(f\"Number of duplicate rows: {num_duplicates}\")\n",
    "\n",
    "combined_df = combined_df.drop_duplicates()\n",
    "\n",
    "print(\"Recent history appended, duplicates removed, and saved to 'Spotify_History2014-Aug2025.csv'.\")"
   ]
  },
  {
   "cell_type": "code",
   "execution_count": 14,
   "id": "0757f78e",
   "metadata": {},
   "outputs": [],
   "source": [
    "combined_df.to_csv(\"Spotify_History2014-Recent.csv\", index=False)"
   ]
  },
  {
   "cell_type": "code",
   "execution_count": 16,
   "id": "b7415d47",
   "metadata": {},
   "outputs": [
    {
     "name": "stdout",
     "output_type": "stream",
     "text": [
      "Original DataFrame shape: (179344, 4)\n",
      "First few date entries:\n",
      "0    2014-12-19T10:31:24Z\n",
      "1    2014-12-19T10:31:26Z\n",
      "2    2014-12-19T10:31:31Z\n",
      "3    2014-12-22T19:45:10Z\n",
      "4    2014-12-23T15:54:33Z\n",
      "Name: Date/Time, dtype: object\n",
      "\n",
      "Last few date entries:\n",
      "179339    September 25, 2025 at 12:53PM\n",
      "179340    September 25, 2025 at 01:03PM\n",
      "179341    September 25, 2025 at 01:07PM\n",
      "179342    September 25, 2025 at 01:11PM\n",
      "179343    September 25, 2025 at 01:14PM\n",
      "Name: Date/Time, dtype: object\n",
      "\n",
      "Converting date formats...\n",
      "\n",
      "After conversion - First few date entries:\n",
      "0    2014-12-19T10:31:24Z\n",
      "1    2014-12-19T10:31:26Z\n",
      "2    2014-12-19T10:31:31Z\n",
      "3    2014-12-22T19:45:10Z\n",
      "4    2014-12-23T15:54:33Z\n",
      "Name: Date/Time, dtype: object\n",
      "\n",
      "After conversion - Last few date entries:\n",
      "179339    2025-09-25T12:53:00Z\n",
      "179340    2025-09-25T13:03:00Z\n",
      "179341    2025-09-25T13:07:00Z\n",
      "179342    2025-09-25T13:11:00Z\n",
      "179343    2025-09-25T13:14:00Z\n",
      "Name: Date/Time, dtype: object\n",
      "\n",
      "Number of entries that couldn't be converted to ISO format: 0\n",
      "\n",
      "Number of entries that couldn't be converted to ISO format: 0\n",
      "\n",
      "Updated CSV file saved with 179344 entries\n",
      "\n",
      "Updated CSV file saved with 179344 entries\n"
     ]
    }
   ],
   "source": [
    "import pandas as pd\n",
    "import re\n",
    "from datetime import datetime\n",
    "\n",
    "df = pd.read_csv('Spotify_History2014-Recent.csv')\n",
    "\n",
    "print(f\"Original DataFrame shape: {df.shape}\")\n",
    "print(f\"First few date entries:\")\n",
    "print(df['Date/Time'].head())\n",
    "print(f\"\\nLast few date entries:\")\n",
    "print(df['Date/Time'].tail())\n",
    "\n",
    "def convert_to_iso_format(date_str):\n",
    "    \"\"\"\n",
    "    Convert date string to ISO format (YYYY-MM-DDTHH:MM:SSZ)\n",
    "    Handles both ISO format (already correct) and human-readable format\n",
    "    \"\"\"\n",
    "    \n",
    "    date_str = str(date_str).strip('\"')\n",
    "    \n",
    "    if 'T' in date_str and date_str.endswith('Z'):\n",
    "        return date_str\n",
    "    \n",
    "    if ' at ' in date_str:\n",
    "        try:\n",
    "            \n",
    "            dt = datetime.strptime(date_str, \"%B %d, %Y at %I:%M%p\")\n",
    "            \n",
    "            return dt.strftime(\"%Y-%m-%dT%H:%M:%SZ\")\n",
    "        except ValueError:\n",
    "            \n",
    "            print(f\"Could not parse date: {date_str}\")\n",
    "            return date_str\n",
    "    \n",
    "    return date_str\n",
    "\n",
    "print(\"\\nConverting date formats...\")\n",
    "df['Date/Time'] = df['Date/Time'].apply(convert_to_iso_format)\n",
    "\n",
    "print(f\"\\nAfter conversion - First few date entries:\")\n",
    "print(df['Date/Time'].head())\n",
    "print(f\"\\nAfter conversion - Last few date entries:\")\n",
    "print(df['Date/Time'].tail())\n",
    "\n",
    "non_iso_entries = df[~(df['Date/Time'].str.contains('T') & df['Date/Time'].str.endswith('Z'))]\n",
    "print(f\"\\nNumber of entries that couldn't be converted to ISO format: {len(non_iso_entries)}\")\n",
    "if len(non_iso_entries) > 0:\n",
    "    print(\"Examples of unconverted entries:\")\n",
    "    print(non_iso_entries['Date/Time'].head())\n",
    "\n",
    "df.to_csv('Spotify_History2014-Recent-ISO.csv', index=False)\n",
    "print(f\"\\nUpdated CSV file saved with {len(df)} entries\")"
   ]
  }
 ],
 "metadata": {
  "kernelspec": {
   "display_name": ".venv",
   "language": "python",
   "name": "python3"
  },
  "language_info": {
   "codemirror_mode": {
    "name": "ipython",
    "version": 3
   },
   "file_extension": ".py",
   "mimetype": "text/x-python",
   "name": "python",
   "nbconvert_exporter": "python",
   "pygments_lexer": "ipython3",
   "version": "3.13.2"
  }
 },
 "nbformat": 4,
 "nbformat_minor": 5
}
