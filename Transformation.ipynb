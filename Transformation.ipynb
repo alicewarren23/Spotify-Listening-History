{
 "cells": [
  {
   "cell_type": "code",
   "execution_count": null,
   "id": "d8d0ab57",
   "metadata": {},
   "outputs": [
    {
     "name": "stdout",
     "output_type": "stream",
     "text": [
      "Spotify History Sheet downloaded and saved as 'Spotify_History.csv'.\n"
     ]
    }
   ],
   "source": [
    "import gspread\n",
    "from oauth2client.service_account import ServiceAccountCredentials\n",
    "\n",
    "\n",
    "scope = [\"https://spreadsheets.google.com/feeds\", \"https://www.googleapis.com/auth/drive\"]\n",
    "creds = ServiceAccountCredentials.from_json_keyfile_name(\"lucid-parsec-464412-t8-75d0c2e2a5fa.json\", scope)\n",
    "client = gspread.authorize(creds)\n",
    "\n",
    "\n",
    "sheet = client.open(\"Spotify History\").sheet1\n",
    "\n",
    "\n",
    "import csv\n",
    "with open(\"Spotify_History.csv\", \"w\", newline=\"\") as file:\n",
    "    writer = csv.writer(file)\n",
    "    writer.writerow(sheet.row_values(1))  # Write header\n",
    "    writer.writerows(sheet.get_all_values()[1:])  # Write data\n",
    "\n",
    "print(\"Spotify History Sheet downloaded and saved as 'Spotify_History.csv'.\")"
   ]
  },
  {
   "cell_type": "code",
   "execution_count": null,
   "id": "d1103d91",
   "metadata": {},
   "outputs": [
    {
     "name": "stdout",
     "output_type": "stream",
     "text": [
      "Spotify Historydownloaded'.\n"
     ]
    }
   ],
   "source": [
    "\n",
    "sheet = client.open(\"Recent Spotify Plays\").sheet1\n",
    "\n",
    "import csv\n",
    "with open(\"Recent_Spotify_History.csv\", \"w\", newline=\"\") as file:\n",
    "    writer = csv.writer(file)\n",
    "    writer.writerow(sheet.row_values(1)) \n",
    "    writer.writerows(sheet.get_all_values()[1:]) \n",
    "\n",
    "print(\"Spotify Historydownloaded'.\")"
   ]
  },
  {
   "cell_type": "code",
   "execution_count": null,
   "id": "355d7178",
   "metadata": {},
   "outputs": [
    {
     "name": "stdout",
     "output_type": "stream",
     "text": [
      "URI column removed from 'Recent_Spotify_History.csv'.\n"
     ]
    }
   ],
   "source": [
    "import pandas as pd\n",
    "\n",
    "df = pd.read_csv(\"Recent_Spotify_History.csv\")\n",
    "\n",
    "if \"URI\" in df.columns:\n",
    "    df = df.drop(columns=[\"URI\"])\n",
    "\n",
    "df.to_csv(\"Recent_Spotify_History.csv\", index=False)\n",
    "\n",
    "print(\"URI column removed from 'Recent_Spotify_History.csv'.\")"
   ]
  },
  {
   "cell_type": "code",
   "execution_count": null,
   "id": "60000edd",
   "metadata": {},
   "outputs": [
    {
     "name": "stdout",
     "output_type": "stream",
     "text": [
      "Number of duplicate rows: 171\n",
      "Recent history appended, duplicates removed, and saved to 'Spotify_History2014-Aug2025.csv'.\n"
     ]
    }
   ],
   "source": [
    "import pandas as pd\n",
    "\n",
    "history_df = pd.read_csv(\"Spotify_History2014-Aug2025.csv\")\n",
    "recent_df = pd.read_csv(\"Recent_Spotify_History.csv\")\n",
    "\n",
    "combined_df = pd.concat([history_df, recent_df], ignore_index=True)\n",
    "\n",
    "num_duplicates = combined_df.duplicated().sum()\n",
    "print(f\"Number of duplicate rows: {num_duplicates}\")\n",
    "\n",
    "combined_df = combined_df.drop_duplicates()\n",
    "\n",
    "print(\"Recent history appended, duplicates removed, and saved to 'Spotify_History2014-Aug2025.csv'.\")"
   ]
  },
  {
   "cell_type": "code",
   "execution_count": null,
   "id": "0757f78e",
   "metadata": {},
   "outputs": [],
   "source": [
    "combined_df.to_csv(\"Spotify_History2014-Sept2025.csv\", index=False)"
   ]
  },
  {
   "cell_type": "code",
   "execution_count": null,
   "id": "4db89ce5",
   "metadata": {},
   "outputs": [],
   "source": []
  }
 ],
 "metadata": {
  "kernelspec": {
   "display_name": ".venv",
   "language": "python",
   "name": "python3"
  },
  "language_info": {
   "codemirror_mode": {
    "name": "ipython",
    "version": 3
   },
   "file_extension": ".py",
   "mimetype": "text/x-python",
   "name": "python",
   "nbconvert_exporter": "python",
   "pygments_lexer": "ipython3",
   "version": "3.13.2"
  }
 },
 "nbformat": 4,
 "nbformat_minor": 5
}
